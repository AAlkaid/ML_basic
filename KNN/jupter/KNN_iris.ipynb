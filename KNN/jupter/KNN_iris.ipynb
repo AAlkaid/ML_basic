{
 "cells": [
  {
   "cell_type": "code",
   "execution_count": 1,
   "metadata": {},
   "outputs": [],
   "source": [
    "import numpy as np\n",
    "from sklearn import datasets\n",
    "from sklearn.model_selection import train_test_split\n",
    "from sklearn.metrics import classification_report, confusion_matrix\n",
    "import operator\n",
    "import random"
   ]
  },
  {
   "cell_type": "code",
   "execution_count": 16,
   "metadata": {},
   "outputs": [],
   "source": [
    "def knn(x_test, x_data, y_data, k):\n",
    "    # calculate the num of samples\n",
    "    x_data_size = x_data.shape[0]\n",
    "    # copy x_test\n",
    "    np.tile(x_test, (x_data_size, 1))\n",
    "    diffMat = np.tile(x_test, (x_data_size,1)) - x_data\n",
    "    # calculate the square\n",
    "    sqDiffMat = diffMat**2\n",
    "    # calculate the sum\n",
    "    sqDistances = sqDiffMat.sum(axis=1)\n",
    "    # calculate the sqrt\n",
    "    distances = sqDistances**0.5\n",
    "    # sort from small to large\n",
    "    sortedDistances = distances.argsort()\n",
    "    classCount = {}\n",
    "    for i in range(k):\n",
    "        # get the labels\n",
    "        votelabel = y_data[sortedDistances[i]]\n",
    "        # calculate the numbers of the labels\n",
    "        classCount[votelabel] = classCount.get(votelabel,0) + 1\n",
    "    sortedClassCount = sorted(classCount.items(), key=operator.itemgetter(1), reverse=True)\n",
    "    \n",
    "    return sortedClassCount[0][0]"
   ]
  },
  {
   "cell_type": "code",
   "execution_count": 19,
   "metadata": {},
   "outputs": [
    {
     "name": "stdout",
     "output_type": "stream",
     "text": [
      "              precision    recall  f1-score   support\n",
      "\n",
      "           0       1.00      1.00      1.00        13\n",
      "           1       0.92      0.92      0.92        12\n",
      "           2       0.93      0.93      0.93        15\n",
      "\n",
      "    accuracy                           0.95        40\n",
      "   macro avg       0.95      0.95      0.95        40\n",
      "weighted avg       0.95      0.95      0.95        40\n",
      "\n"
     ]
    }
   ],
   "source": [
    "iris = datasets.load_iris()\n",
    "# mix the data\n",
    "data_size = iris.data.shape[0]\n",
    "index = [i for i in range(data_size)]\n",
    "\n",
    "# mix the data automatically\n",
    "random.shuffle(index)\n",
    "\n",
    "# get the data \n",
    "# get the mixed data\n",
    "iris.data = iris.data[index]\n",
    "iris.target = iris.target[index]\n",
    "\n",
    "# split the data\n",
    "test_size = 40\n",
    "x_train = iris.data[test_size:]\n",
    "x_test = iris.data[:test_size]\n",
    "\n",
    "y_train = iris.target[test_size:]\n",
    "y_test = iris.target[:test_size]\n",
    "\n",
    "predictions = []\n",
    "\n",
    "# 40次\n",
    "for i in range(x_test.shape[0]):\n",
    "    predictions.append(knn(x_test[i], x_train, y_train, 5))\n",
    "    \n",
    "print(classification_report(y_test, predictions))"
   ]
  },
  {
   "cell_type": "code",
   "execution_count": 21,
   "metadata": {},
   "outputs": [
    {
     "name": "stdout",
     "output_type": "stream",
     "text": [
      "[[13  0  0]\n",
      " [ 0 11  1]\n",
      " [ 0  1 14]]\n"
     ]
    }
   ],
   "source": [
    "print(confusion_matrix(y_test, predictions))"
   ]
  },
  {
   "cell_type": "code",
   "execution_count": null,
   "metadata": {},
   "outputs": [],
   "source": []
  }
 ],
 "metadata": {
  "kernelspec": {
   "display_name": "Python 3",
   "language": "python",
   "name": "python3"
  },
  "language_info": {
   "codemirror_mode": {
    "name": "ipython",
    "version": 3
   },
   "file_extension": ".py",
   "mimetype": "text/x-python",
   "name": "python",
   "nbconvert_exporter": "python",
   "pygments_lexer": "ipython3",
   "version": "3.8.5"
  }
 },
 "nbformat": 4,
 "nbformat_minor": 4
}
