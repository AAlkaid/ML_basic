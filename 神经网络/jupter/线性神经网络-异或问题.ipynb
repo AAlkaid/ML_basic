{
 "cells": [
  {
   "cell_type": "code",
   "execution_count": 6,
   "metadata": {},
   "outputs": [],
   "source": [
    "import numpy as np\n",
    "import matplotlib.pyplot as plt"
   ]
  },
  {
   "cell_type": "code",
   "execution_count": 22,
   "metadata": {},
   "outputs": [],
   "source": [
    "X = np.array([[1,0,0,0,0,0],\n",
    "              [1,0,1,0,0,1],\n",
    "              [1,1,0,1,0,0],\n",
    "              [1,0,1,1,1,1]])\n",
    "\n",
    "# label\n",
    "Y = np.array([-1,1,1,-1])\n",
    "\n",
    "# init weight\n",
    "W = (np.random.random(6) - 0.5)*2\n",
    "\n",
    "# learning rate\n",
    "lr = 0.11\n",
    "n = 0\n",
    "# Output\n",
    "O = 0"
   ]
  },
  {
   "cell_type": "code",
   "execution_count": 31,
   "metadata": {},
   "outputs": [],
   "source": [
    "def update():\n",
    "    global X,Y,W,lr,n\n",
    "    n += 1\n",
    "    O = np.dot(X,W.T)\n",
    "    W_C = lr*((Y-O.T).dot(X)) / int(X.shape[0])\n",
    "    W = W + W_C"
   ]
  },
  {
   "cell_type": "code",
   "execution_count": 32,
   "metadata": {},
   "outputs": [
    {
     "name": "stderr",
     "output_type": "stream",
     "text": [
      "<ipython-input-32-f822f70fbdc7>:21: RuntimeWarning: invalid value encountered in sqrt\n",
      "  return (-b + np.sqrt(b*b - 4*a*c)) / (2*a)\n",
      "<ipython-input-32-f822f70fbdc7>:23: RuntimeWarning: invalid value encountered in sqrt\n",
      "  return (-b - np.sqrt(b*b - 4*a*c)) / (2*a)\n"
     ]
    },
    {
     "data": {
      "image/png": "[encoded data removed]",
      "text/plain": [
       "<Figure size 432x288 with 1 Axes>"
      ]
     },
     "metadata": {
      "needs_background": "light"
     },
     "output_type": "display_data"
    }
   ],
   "source": [
    "for i in range(10000):\n",
    "    # 更新一次，打印一次\n",
    "    update()\n",
    "\n",
    "    # 0.1 0.1 0.2 -0.2\n",
    "    #  1   1   1   -1\n",
    "# positive sample\n",
    "x1 = [0,1]\n",
    "y1 = [1,0]\n",
    "\n",
    "# negative sample\n",
    "x2 = [0,1]\n",
    "y2 = [0,1]\n",
    "\n",
    "def calculate(x, root):\n",
    "    a = W[5]\n",
    "    b = W[2] + x*W[4]\n",
    "    c = W[0] + x*W[1] + x*x*W[3]\n",
    "    \n",
    "    if root == 1:\n",
    "        return (-b + np.sqrt(b*b - 4*a*c)) / (2*a)\n",
    "    if root == 2:\n",
    "        return (-b - np.sqrt(b*b - 4*a*c)) / (2*a)\n",
    "\n",
    "\n",
    "xdata = np.linspace(-1,3)\n",
    "\n",
    "plt.figure()\n",
    "\n",
    "plt.plot(xdata,calculate(xdata,1),'r')\n",
    "plt.plot(xdata,calculate(xdata,2),'r')\n",
    "\n",
    "plt.plot(x1,y1,'bo')\n",
    "plt.plot(x2,y2,'yo')\n",
    "plt.show()"
   ]
  },
  {
   "cell_type": "code",
   "execution_count": null,
   "metadata": {},
   "outputs": [],
   "source": []
  },
  {
   "cell_type": "code",
   "execution_count": null,
   "metadata": {},
   "outputs": [],
   "source": []
  }
 ],
 "metadata": {
  "kernelspec": {
   "display_name": "Python 3",
   "language": "python",
   "name": "python3"
  },
  "language_info": {
   "codemirror_mode": {
    "name": "ipython",
    "version": 3
   },
   "file_extension": ".py",
   "mimetype": "text/x-python",
   "name": "python",
   "nbconvert_exporter": "python",
   "pygments_lexer": "ipython3",
   "version": "3.8.5"
  }
 },
 "nbformat": 4,
 "nbformat_minor": 4
}
