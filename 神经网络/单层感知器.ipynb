{
 "cells": [
  {
   "cell_type": "code",
   "execution_count": 5,
   "metadata": {},
   "outputs": [],
   "source": [
    "import numpy as np\n",
    "import matplotlib.pyplot as plt"
   ]
  },
  {
   "cell_type": "code",
   "execution_count": 12,
   "metadata": {},
   "outputs": [],
   "source": [
    "# input data\n",
    "X = np.array([[1,3,3],\n",
    "              [1,4,3],\n",
    "              [1,1,1],\n",
    "              [1,0,2]])\n",
    "\n",
    "# labels\n",
    "Y = np.array([[1],\n",
    "              [1],\n",
    "              [-1],\n",
    "              [-1]])\n",
    "\n",
    "# init weight\n",
    "W = (np.random.random([3,1]) - 0.5)*2\n",
    "\n",
    "# learning rate\n",
    "lr = 0.11\n",
    "\n",
    "# Output\n",
    "O = 0"
   ]
  },
  {
   "cell_type": "code",
   "execution_count": 13,
   "metadata": {},
   "outputs": [],
   "source": [
    "def update():\n",
    "    global X,Y,W,lr\n",
    "    O = np.sign(np.dot(X,W))\n",
    "    W_C = lr*(X.T.dot(Y-O)) / int(X.shape[0])\n",
    "    W = W + W_C"
   ]
  },
  {
   "cell_type": "code",
   "execution_count": 14,
   "metadata": {},
   "outputs": [
    {
     "name": "stdout",
     "output_type": "stream",
     "text": [
      "[[-0.99207049]\n",
      " [ 0.91999741]\n",
      " [ 0.29386836]]\n",
      "0\n",
      "[[-1.04707049]\n",
      " [ 0.86499741]\n",
      " [ 0.23886836]]\n",
      "1\n",
      "[[-1.10207049]\n",
      " [ 0.80999741]\n",
      " [ 0.18386836]]\n",
      "2\n",
      "finished\n",
      "epoch: 2\n",
      "k= [-4.40531163]\n",
      "b= [5.99380178]\n"
     ]
    },
    {
     "data": {
      "image/png": "[encoded data removed]",
      "text/plain": [
       "<Figure size 432x288 with 1 Axes>"
      ]
     },
     "metadata": {
      "needs_background": "light"
     },
     "output_type": "display_data"
    }
   ],
   "source": [
    "for i in range(100):\n",
    "    # 更新一次，打印一次\n",
    "    update()\n",
    "    print(W)\n",
    "    print(i)\n",
    "    \n",
    "    O = np.sign(np.dot(X,W))\n",
    "    \n",
    "    if (O == Y).all():\n",
    "        print('finished')\n",
    "        print('epoch:',i)\n",
    "        break\n",
    "\n",
    "# positive sample\n",
    "x1 = [3,4]\n",
    "y1 = [3,3]\n",
    "\n",
    "# negative sample\n",
    "x2 = [1,0]\n",
    "y2 = [1,2]\n",
    "\n",
    "# calculate k and b\n",
    "k = -W[1]/W[2]\n",
    "b = -W[0]/W[2]\n",
    "\n",
    "print('k=',k)\n",
    "print('b=',b)\n",
    "\n",
    "xdata = (0,5)\n",
    "\n",
    "plt.figure()\n",
    "plt.plot(xdata,xdata*k+b,'r')\n",
    "plt.scatter(x1,y1,c='b')\n",
    "plt.scatter(x2,y2,c='y')\n",
    "plt.show()"
   ]
  },
  {
   "cell_type": "code",
   "execution_count": null,
   "metadata": {},
   "outputs": [],
   "source": []
  }
 ],
 "metadata": {
  "kernelspec": {
   "display_name": "Python 3",
   "language": "python",
   "name": "python3"
  },
  "language_info": {
   "codemirror_mode": {
    "name": "ipython",
    "version": 3
   },
   "file_extension": ".py",
   "mimetype": "text/x-python",
   "name": "python",
   "nbconvert_exporter": "python",
   "pygments_lexer": "ipython3",
   "version": "3.8.5"
  }
 },
 "nbformat": 4,
 "nbformat_minor": 4
}
