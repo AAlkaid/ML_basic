{
 "cells": [
  {
   "cell_type": "code",
   "execution_count": 2,
   "metadata": {},
   "outputs": [],
   "source": [
    "import numpy as np\n",
    "import matplotlib.pyplot as plt"
   ]
  },
  {
   "cell_type": "code",
   "execution_count": 3,
   "metadata": {},
   "outputs": [],
   "source": [
    "data = np.genfromtxt('kmeans.txt', delimiter=' ')"
   ]
  },
  {
   "cell_type": "code",
   "execution_count": 6,
   "metadata": {},
   "outputs": [
    {
     "data": {
      "image/png": "[encoded data removed]",
      "text/plain": [
       "<Figure size 432x288 with 1 Axes>"
      ]
     },
     "metadata": {
      "needs_background": "light"
     },
     "output_type": "display_data"
    },
    {
     "data": {
      "text/plain": [
       "(80, 2)"
      ]
     },
     "execution_count": 6,
     "metadata": {},
     "output_type": "execute_result"
    }
   ],
   "source": [
    "plt.scatter(data[:, 0], data[:, 1])\n",
    "plt.show()\n",
    "\n",
    "data.shape"
   ]
  },
  {
   "cell_type": "code",
   "execution_count": 32,
   "metadata": {},
   "outputs": [],
   "source": [
    "# train \n",
    "\n",
    "# 欧几里得距离\n",
    "def eucDistance(vector1, vector2):\n",
    "    return np.sqrt(sum((vector1 - vector2) ** 2))\n",
    "\n",
    "\n",
    "def initCentroids(data, k):\n",
    "    numSamples, dim = data.shape\n",
    "    \n",
    "    # k个质心，每个dim维\n",
    "    centroids = np.zeros((k, dim))\n",
    "    # 随机选出k个质心\n",
    "    for i in range(k):\n",
    "        # 随机选择索引\n",
    "        index = int(np.random.uniform(0, numSamples))\n",
    "        # 作为初始化的质心\n",
    "        centroids[i, :] = data[index, :]\n",
    "        \n",
    "    return centroids\n",
    "\n",
    "def kmeans(data, k):\n",
    "    # calculate the number of samples\n",
    "    numSamples = data.shape[0]\n",
    "    \n",
    "    # sample的属性，第一列放属于哪个簇，第二列放误差\n",
    "    clusterData = np.array(np.zeros((numSamples, 2)))\n",
    "    \n",
    "    # judege whether the core need to change\n",
    "    clusterChanged = True\n",
    "    \n",
    "    # init\n",
    "    centroids = initCentroids(data, k)\n",
    "    \n",
    "    while clusterChanged:\n",
    "        clusterChanged = False\n",
    "        \n",
    "        # loop every sample\n",
    "        for i in range(numSamples):\n",
    "            # define the minimize distance\n",
    "            minDist = 1000000.0\n",
    "            # define the kind \n",
    "            minIndex = 0\n",
    "            \n",
    "            # loop for calculating the distance between core and samble\n",
    "            for j in range(k):\n",
    "                distance = eucDistance(centroids[j, :], data[i, :])\n",
    "                \n",
    "                # update\n",
    "                if distance < minDist:\n",
    "                    minDist = distance\n",
    "                    clusterData[i, 1] = minDist\n",
    "                    minIndex = j\n",
    "            if clusterData[i, 0] != minIndex:\n",
    "                # recalculate the core \n",
    "                clusterChanged = True\n",
    "                clusterData[i, 0] = minIndex\n",
    "        \n",
    "        # update cores\n",
    "        for j in range(k):\n",
    "            cluster_index = np.nonzero(clusterData[:, 0] == j)\n",
    "            \n",
    "            # all the suitablbe samples\n",
    "            pointsInCluster = data[cluster_index]\n",
    "            \n",
    "            centroids[j, :] = np.mean(pointsInCluster, axis = 0)\n",
    "            \n",
    "    return centroids, clusterData\n",
    "\n",
    "\n",
    "def showCluster(data, k, centroids, clusterData):\n",
    "    numSamples, dim = data.shape\n",
    "    \n",
    "    if dim != 2:\n",
    "        print('Dimensions of your data is not two!')\n",
    "        return 1\n",
    "    \n",
    "    # labels\n",
    "    mark = ['or', 'ob', 'og', 'ok', '^r', '+r', 'sr', 'dr', '<r', 'pr']\n",
    "    \n",
    "    if k > len(mark):\n",
    "        print('Your k is too large!')\n",
    "        return 1\n",
    "    \n",
    "    for i in range(numSamples):\n",
    "        markIndex = int(clusterData[i, 0])\n",
    "        plt.plot(data[i, 0], data[i, 1], mark[markIndex])\n",
    "        \n",
    "        \n",
    "    mark = ['*r', '*b', '*g', '*k', '^b', '+b', 'sb', 'db', '<b', 'pb'] \n",
    "    \n",
    "    # draw the core\n",
    "    \n",
    "    \n",
    "    for i in range(k):\n",
    "        plt.plot(centroids[i, 0], centroids[i, 1], mark[i], markersize = 20)\n",
    "        \n",
    "    plt.show()"
   ]
  },
  {
   "cell_type": "code",
   "execution_count": 33,
   "metadata": {},
   "outputs": [
    {
     "name": "stdout",
     "output_type": "stream",
     "text": [
      "Cluster complete!\n"
     ]
    },
    {
     "data": {
      "image/png": "[encoded data removed]",
      "text/plain": [
       "<Figure size 432x288 with 1 Axes>"
      ]
     },
     "metadata": {
      "needs_background": "light"
     },
     "output_type": "display_data"
    }
   ],
   "source": [
    "k = 4\n",
    "centroids, clusterData = kmeans(data, k)\n",
    "\n",
    "if np.isnan(centorids).any():\n",
    "    print('error')\n",
    "else:\n",
    "    print('Cluster complete!')\n",
    "    \n",
    "showCluster(data, k, centroids, clusterData)"
   ]
  },
  {
   "cell_type": "code",
   "execution_count": 34,
   "metadata": {},
   "outputs": [
    {
     "data": {
      "text/plain": [
       "array([[-2.46154315,  2.78737555],\n",
       "       [ 2.65077367, -2.79019029],\n",
       "       [ 2.6265299 ,  3.10868015],\n",
       "       [-3.53973889, -2.89384326]])"
      ]
     },
     "execution_count": 34,
     "metadata": {},
     "output_type": "execute_result"
    }
   ],
   "source": [
    "centroids"
   ]
  },
  {
   "cell_type": "code",
   "execution_count": 19,
   "metadata": {},
   "outputs": [
    {
     "data": {
      "text/plain": [
       "array([[0, 1],\n",
       "       [0, 1],\n",
       "       [0, 1],\n",
       "       [0, 1]])"
      ]
     },
     "execution_count": 19,
     "metadata": {},
     "output_type": "execute_result"
    }
   ],
   "source": [
    "# predict\n",
    "\n",
    "\n",
    "x_test = [0, 1]\n",
    "np.tile(x_test, (k, 1))"
   ]
  },
  {
   "cell_type": "code",
   "execution_count": 35,
   "metadata": {},
   "outputs": [
    {
     "data": {
      "text/plain": [
       "array([[ 2.46154315, -1.78737555],\n",
       "       [-2.65077367,  3.79019029],\n",
       "       [-2.6265299 , -2.10868015],\n",
       "       [ 3.53973889,  3.89384326]])"
      ]
     },
     "execution_count": 35,
     "metadata": {},
     "output_type": "execute_result"
    }
   ],
   "source": [
    "np.tile(x_test, (k, 1)) - centroids"
   ]
  },
  {
   "cell_type": "code",
   "execution_count": 42,
   "metadata": {},
   "outputs": [
    {
     "data": {
      "text/plain": [
       "array([ 9.25390604, 21.39214343, 11.34519129, 27.6917668 ])"
      ]
     },
     "execution_count": 42,
     "metadata": {},
     "output_type": "execute_result"
    }
   ],
   "source": [
    "((np.tile(x_test, (k, 1)) - centroids) ** 2).sum(axis = 1)"
   ]
  },
  {
   "cell_type": "code",
   "execution_count": 41,
   "metadata": {},
   "outputs": [
    {
     "data": {
      "text/plain": [
       "0"
      ]
     },
     "execution_count": 41,
     "metadata": {},
     "output_type": "execute_result"
    }
   ],
   "source": [
    "np.argmin(((np.tile(x_test, (k, 1)) - centroids) ** 2).sum(axis = 1))"
   ]
  },
  {
   "cell_type": "code",
   "execution_count": 40,
   "metadata": {},
   "outputs": [],
   "source": [
    "def predict(datas):\n",
    "    return np.array([np.argmin(((np.tile(x_test, (k, 1)) - centroids) ** 2).sum(axis = 1)) for data in datas])"
   ]
  },
  {
   "cell_type": "code",
   "execution_count": 43,
   "metadata": {},
   "outputs": [
    {
     "data": {
      "image/png": "[encoded data removed]",
      "text/plain": [
       "<Figure size 432x288 with 1 Axes>"
      ]
     },
     "metadata": {
      "needs_background": "light"
     },
     "output_type": "display_data"
    }
   ],
   "source": [
    "# 获取数据值所在的范围\n",
    "x_min, x_max = data[:, 0].min() - 1, data[:, 0].max() + 1\n",
    "y_min, y_max = data[:, 1].min() - 1, data[:, 1].max() + 1\n",
    "\n",
    "# 生成网格矩阵\n",
    "xx, yy = np.meshgrid(np.arange(x_min, x_max, 0.02),\n",
    "                     np.arange(y_min, y_max, 0.02))\n",
    "\n",
    "z = predict(np.c_[xx.ravel(), yy.ravel()])# ravel与flatten类似，多维数据转一维。flatten不会改变原始数据，ravel会改变原始数据\n",
    "z = z.reshape(xx.shape)\n",
    "# 等高线图\n",
    "cs = plt.contourf(xx, yy, z)\n",
    "# 显示结果\n",
    "showCluster(data, k, centroids, clusterData)  "
   ]
  },
  {
   "cell_type": "code",
   "execution_count": null,
   "metadata": {},
   "outputs": [],
   "source": []
  }
 ],
 "metadata": {
  "kernelspec": {
   "display_name": "Python 3",
   "language": "python",
   "name": "python3"
  },
  "language_info": {
   "codemirror_mode": {
    "name": "ipython",
    "version": 3
   },
   "file_extension": ".py",
   "mimetype": "text/x-python",
   "name": "python",
   "nbconvert_exporter": "python",
   "pygments_lexer": "ipython3",
   "version": "3.8.3"
  }
 },
 "nbformat": 4,
 "nbformat_minor": 4
}
